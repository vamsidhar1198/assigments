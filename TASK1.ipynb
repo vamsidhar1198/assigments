{
 "cells": [
  {
   "cell_type": "code",
   "execution_count": 2,
   "id": "57862655",
   "metadata": {},
   "outputs": [
    {
     "name": "stdout",
     "output_type": "stream",
     "text": [
      "enter the name : VAMSIDHAR\n",
      "vamsidhar\n"
     ]
    }
   ],
   "source": [
    "#Write a python program to convert a string to lower case\n",
    "name=input('enter the name : ')\n",
    "b=''\n",
    "for i in name:\n",
    "    b=b+i.lower()\n",
    "print(b)"
   ]
  },
  {
   "cell_type": "code",
   "execution_count": 4,
   "id": "6def6d2a",
   "metadata": {},
   "outputs": [
    {
     "name": "stdout",
     "output_type": "stream",
     "text": [
      "enter the name : VAMSIDHAR\n",
      "VaMsIdHaR\n"
     ]
    }
   ],
   "source": [
    "#Write a python program to convert only odd indexed characters to lower case\n",
    "name=input('enter the name : ')\n",
    "b=''\n",
    "for i in range(len(name)):\n",
    "    if i%2!=0: b=b+name[i].lower()\n",
    "    else: b=b+name[i]\n",
    "print(b)"
   ]
  },
  {
   "cell_type": "code",
   "execution_count": 6,
   "id": "ff0ca7fa",
   "metadata": {},
   "outputs": [
    {
     "name": "stdout",
     "output_type": "stream",
     "text": [
      "enter the name : VAMSIDHAR\n",
      "vAmSiDhAr\n"
     ]
    }
   ],
   "source": [
    "#Write a python program to convert only even indexed characters to lower case\n",
    "name=input('enter the name : ')\n",
    "b=''\n",
    "for i in range(len(name)):\n",
    "    if i%2==0: b=b+name[i].lower()\n",
    "    else: b=b+name[i]\n",
    "print(b)"
   ]
  },
  {
   "cell_type": "code",
   "execution_count": 7,
   "id": "08e0b54b",
   "metadata": {},
   "outputs": [
    {
     "name": "stdout",
     "output_type": "stream",
     "text": [
      "enter the name : vamsidhar\n",
      "vAmSiDhAr\n"
     ]
    }
   ],
   "source": [
    "#Write a python program to convert only odd indexed characters to upper case\n",
    "name=input('enter the name : ')\n",
    "b=''\n",
    "for i in range(len(name)):\n",
    "    if i%2!=0: b=b+name[i].upper()\n",
    "    else: b=b+name[i]\n",
    "print(b)"
   ]
  },
  {
   "cell_type": "code",
   "execution_count": 8,
   "id": "027e3e93",
   "metadata": {},
   "outputs": [
    {
     "name": "stdout",
     "output_type": "stream",
     "text": [
      "enter the name : vamsidhar\n",
      "VaMsIdHaR\n"
     ]
    }
   ],
   "source": [
    "# Write a python program to convert only even indexed characters to upper case\n",
    "name=input('enter the name : ')\n",
    "b=''\n",
    "for i in range(len(name)):\n",
    "    if i%2==0: b=b+name[i].upper()\n",
    "    else: b=b+name[i]\n",
    "print(b)"
   ]
  },
  {
   "cell_type": "code",
   "execution_count": 12,
   "id": "e9f9d7c5",
   "metadata": {},
   "outputs": [
    {
     "name": "stdout",
     "output_type": "stream",
     "text": [
      "my name is vamsi.my age is 24.my phone number is 9999999999.my father name showri.my mother name isjosephine\n"
     ]
    }
   ],
   "source": [
    "name='vamsi'\n",
    "sex='male'\n",
    "age=24\n",
    "phone_num='9999999999'\n",
    "father_name='showri'\n",
    "mother_name='josephine'\n",
    "bio_data='my name is {}.my age is {}.my phone number is {}.my father name {}.my mother name is{}'\n",
    "print(bio_data.format(name,age,phone_num,father_name,mother_name))"
   ]
  },
  {
   "cell_type": "code",
   "execution_count": 13,
   "id": "ec9edce9",
   "metadata": {},
   "outputs": [
    {
     "data": {
      "text/plain": [
       "4"
      ]
     },
     "execution_count": 13,
     "metadata": {},
     "output_type": "execute_result"
    }
   ],
   "source": [
    "#Write a python program to count how many times “@” occurred\n",
    "name='v@a@m@s@i'\n",
    "name.count('@')"
   ]
  },
  {
   "cell_type": "code",
   "execution_count": 18,
   "id": "16531499",
   "metadata": {},
   "outputs": [
    {
     "name": "stdout",
     "output_type": "stream",
     "text": [
      "name1 name2 name3\n"
     ]
    }
   ],
   "source": [
    "# .Write a python program to get only names from the string “name1.@gmail.com,name2.@gmail.com,name3.@gmail.com”\n",
    "name=\"name1.@gmail.com,name2.@gmail.com,name3.@gmail.com\"\n",
    "print(name[0:5],name[17:22],name[34:39])"
   ]
  },
  {
   "cell_type": "code",
   "execution_count": 25,
   "id": "8ff7709c",
   "metadata": {},
   "outputs": [
    {
     "data": {
      "text/plain": [
       "'arr'"
      ]
     },
     "execution_count": 25,
     "metadata": {},
     "output_type": "execute_result"
    }
   ],
   "source": [
    "# Given a string of odd length greater that 9, return a new string made of the middle three characters of a given String\n",
    "name='vamsidharreddy'\n",
    "a=int(len(name)/2)\n",
    "name[a:a+3]"
   ]
  },
  {
   "cell_type": "code",
   "execution_count": 27,
   "id": "c0bbfcbb",
   "metadata": {},
   "outputs": [
    {
     "data": {
      "text/plain": [
       "'msayn'"
      ]
     },
     "execution_count": 27,
     "metadata": {},
     "output_type": "execute_result"
    }
   ],
   "source": [
    "#Write a python program to insert a 2 string in the middle of 1 string\n",
    "st1='myn'\n",
    "st2='sa'\n",
    "a=int(len(st1)/2)\n",
    "b=st1[:a]+st2+st1[a:]\n",
    "b"
   ]
  },
  {
   "cell_type": "code",
   "execution_count": 32,
   "id": "9edc6137",
   "metadata": {},
   "outputs": [
    {
     "data": {
      "text/plain": [
       "'bcdfghjklmnpqrstvwxyz'"
      ]
     },
     "execution_count": 32,
     "metadata": {},
     "output_type": "execute_result"
    }
   ],
   "source": [
    "# Write a program to remove vowels from the entire alphabets \n",
    "name='abcdefghijklmnopqrstuvwxyz'\n",
    "b=''\n",
    "for i in name:\n",
    "    if i=='a' or i=='e' or i=='i' or i=='o' or i=='u':\n",
    "        continue\n",
    "    else:\n",
    "        b=b+i\n",
    "b\n",
    "        "
   ]
  },
  {
   "cell_type": "code",
   "execution_count": null,
   "id": "b91ce22f",
   "metadata": {},
   "outputs": [],
   "source": []
  }
 ],
 "metadata": {
  "kernelspec": {
   "display_name": "Python 3 (ipykernel)",
   "language": "python",
   "name": "python3"
  },
  "language_info": {
   "codemirror_mode": {
    "name": "ipython",
    "version": 3
   },
   "file_extension": ".py",
   "mimetype": "text/x-python",
   "name": "python",
   "nbconvert_exporter": "python",
   "pygments_lexer": "ipython3",
   "version": "3.9.12"
  }
 },
 "nbformat": 4,
 "nbformat_minor": 5
}

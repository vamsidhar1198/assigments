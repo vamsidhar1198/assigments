{
 "cells": [
  {
   "cell_type": "code",
   "execution_count": 2,
   "id": "1d6afc71",
   "metadata": {},
   "outputs": [
    {
     "name": "stdout",
     "output_type": "stream",
     "text": [
      "enter the first number : 10\n",
      "enter the second  number : 2\n",
      "multiplication of 10 and 2 is 20.\n",
      "division of 10 and 2 is 5.0.\n"
     ]
    }
   ],
   "source": [
    "#Write a program to accept two numbers from the user and calculate multiplication, division\n",
    "num1=int(input(\"enter the first number : \"))\n",
    "num2=int(input(\"enter the second  number : \"))\n",
    "print(\"multiplication of {} and {} is {}.\\ndivision of {} and {} is {}.\".format(num1,num2,num1*num2,num1,num2,num1/num2))"
   ]
  },
  {
   "cell_type": "code",
   "execution_count": 3,
   "id": "49648ebf",
   "metadata": {},
   "outputs": [
    {
     "name": "stdout",
     "output_type": "stream",
     "text": [
      "vmihr\n"
     ]
    }
   ],
   "source": [
    "# Write a python program to print the characters from a string that are present at an even index\n",
    "name='vamsidhar'\n",
    "b=''\n",
    "for i in range(len(name)):\n",
    "    if i%2==0:\n",
    "        b=b+name[i]\n",
    "print(b)"
   ]
  },
  {
   "cell_type": "code",
   "execution_count": 4,
   "id": "a6b8bc25",
   "metadata": {},
   "outputs": [
    {
     "name": "stdout",
     "output_type": "stream",
     "text": [
      "asda\n"
     ]
    }
   ],
   "source": [
    "# Write a python program to print the characters from a string that are present at an odd index\n",
    "name='vamsidhar'\n",
    "b=''\n",
    "for i in range(len(name)):\n",
    "    if i%2!=0:\n",
    "        b=b+name[i]\n",
    "print(b)"
   ]
  },
  {
   "cell_type": "code",
   "execution_count": 1,
   "id": "bd28c87e",
   "metadata": {},
   "outputs": [
    {
     "name": "stdout",
     "output_type": "stream",
     "text": [
      "enter the first number : 10\n",
      "enter the second  number : 12\n",
      "22\n"
     ]
    }
   ],
   "source": [
    "#Write a python program which will print the sum of the two numbers if the two numbers are even or it will print the \n",
    "#difference of two numbers\n",
    "\n",
    "num1=int(input(\"enter the first number : \"))\n",
    "num2=int(input(\"enter the second  number : \"))\n",
    "\n",
    "if num1%2==0 and num2%2==0:\n",
    "    print(num1+num2)\n",
    "else:\n",
    "    print(num1-num2)\n"
   ]
  },
  {
   "cell_type": "code",
   "execution_count": 4,
   "id": "ee4db2a9",
   "metadata": {},
   "outputs": [
    {
     "name": "stdout",
     "output_type": "stream",
     "text": [
      "enter the name:vamsidhar\n",
      "VaMsIdHaR\n"
     ]
    }
   ],
   "source": [
    "#Write a python program to convert all even indexed alphabets to upper and odd indexed char\n",
    "name=input('enter the name:')\n",
    "b=''\n",
    "for i in range(len(name)):\n",
    "    if i%2==0:\n",
    "        b=b+name[i].upper()\n",
    "    else: \n",
    "        b=b+name[i].lower()\n",
    "print(b) "
   ]
  },
  {
   "cell_type": "code",
   "execution_count": 5,
   "id": "be04385f",
   "metadata": {},
   "outputs": [
    {
     "name": "stdout",
     "output_type": "stream",
     "text": [
      "enter the number : 10\n",
      "True\n"
     ]
    }
   ],
   "source": [
    "#Write a python program which will print True if the input number is divisible by 5 or else False\n",
    "a=int(input('enter the number : '))\n",
    "if a%5==0:print('True')\n",
    "else:print('False')"
   ]
  },
  {
   "cell_type": "code",
   "execution_count": 6,
   "id": "725d1056",
   "metadata": {},
   "outputs": [
    {
     "name": "stdout",
     "output_type": "stream",
     "text": [
      "enter the number : 100\n",
      "enter the number : 100\n",
      "10000\n"
     ]
    }
   ],
   "source": [
    "#Given two integer numbers return their product only if the product is greater than 1000, else return their sum\n",
    "a=int(input('enter the number : '))\n",
    "b=int(input('enter the number : '))\n",
    "if a*b>1000:print(a*b)\n",
    "else:print(a+b)"
   ]
  },
  {
   "cell_type": "code",
   "execution_count": 7,
   "id": "2ce25867",
   "metadata": {},
   "outputs": [
    {
     "name": "stdout",
     "output_type": "stream",
     "text": [
      "enter the name:vamsidhar\n",
      "enter the name:dinesh\n",
      "vdierh\n"
     ]
    }
   ],
   "source": [
    "#Given two strings x, y writes a program to return a new string made of x and y’s first, middle, and last characters\n",
    "a=input('enter the name:')\n",
    "b=input('enter the name:')\n",
    "print(a[0]+b[0]+a[int(len(a)/2)]+b[int(len(b)/2)]+a[-1]+b[-1])"
   ]
  },
  {
   "cell_type": "code",
   "execution_count": 9,
   "id": "3343d419",
   "metadata": {},
   "outputs": [
    {
     "name": "stdout",
     "output_type": "stream",
     "text": [
      "enter three names:vamsi kasi chaitu\n",
      "Name1: vamsi\n",
      "Name2: kasi\n",
      "Name3: chaitu\n"
     ]
    }
   ],
   "source": [
    "#Write a python program to take three names as input from a user in the single input () function call\n",
    "a=input('enter three names:')\n",
    "print('Name1:',a.split()[0])\n",
    "print('Name2:',a.split()[1])\n",
    "print('Name3:',a.split()[2])"
   ]
  },
  {
   "cell_type": "code",
   "execution_count": 13,
   "id": "088884cb",
   "metadata": {},
   "outputs": [
    {
     "name": "stdout",
     "output_type": "stream",
     "text": [
      "enter the name:abcabcabc\n",
      "abc@bc@bc\n"
     ]
    }
   ],
   "source": [
    "#Write a Python program to get a string from a given string where all occurrences of its first char have been changed to '@', \n",
    "#except the first char itself.\n",
    "a=input('enter the name:')\n",
    "print(a[0]+a[1:].replace(a[0],'@',a.count(a[0],1)))"
   ]
  },
  {
   "cell_type": "code",
   "execution_count": 6,
   "id": "8ad3e71c",
   "metadata": {},
   "outputs": [
    {
     "data": {
      "text/plain": [
       "'playingly'"
      ]
     },
     "execution_count": 6,
     "metadata": {},
     "output_type": "execute_result"
    }
   ],
   "source": [
    "#Write a Python program to add 'ing' at the end of a given string (string length should be equal to or more than 3). \n",
    "#If the given string already ends with 'ing' then add 'ly' instead. \n",
    "#If the string length of the given string is less than 3, leave it unchanged\n",
    "def strg(x):\n",
    "    if len(x)<3:return x\n",
    "    elif x[-3:]=='ing': return x+'ly'\n",
    "    else: return x\n",
    "strg('playing')"
   ]
  },
  {
   "cell_type": "code",
   "execution_count": 16,
   "id": "13fdc9cb",
   "metadata": {},
   "outputs": [
    {
     "name": "stdout",
     "output_type": "stream",
     "text": [
      "enter the number : 12\n",
      "enter the number : 14\n",
      "False\n"
     ]
    }
   ],
   "source": [
    "#Write a python program that accepts two inputs num1 and num2 \n",
    "#print True if one of them is 10 or if their sum is 10 otherwise print False\n",
    "a=int(input('enter the number : '))\n",
    "b=int(input('enter the number : '))\n",
    "if a==10 or b==10 or a*b==10:print('True')\n",
    "else: print('False')"
   ]
  },
  {
   "cell_type": "code",
   "execution_count": 18,
   "id": "b6d95bd1",
   "metadata": {},
   "outputs": [
    {
     "name": "stdout",
     "output_type": "stream",
     "text": [
      "enter the number : 3\n",
      "enter the number : 2\n",
      "enter the number : 1\n",
      "True\n"
     ]
    }
   ],
   "source": [
    "#Write a python program that accepts three inputs x, y and z print True if x*y>z otherwise False\n",
    "a=int(input('enter the number : '))\n",
    "b=int(input('enter the number : '))\n",
    "c=int(input('enter the number : '))\n",
    "if a*b>c:print('True')\n",
    "else:print('False')"
   ]
  },
  {
   "cell_type": "code",
   "execution_count": 20,
   "id": "21b94880",
   "metadata": {},
   "outputs": [
    {
     "name": "stdout",
     "output_type": "stream",
     "text": [
      "enter the number : kasi\n",
      "enter the number : kasi\n",
      "True\n"
     ]
    }
   ],
   "source": [
    "#Write a python program that accepts two strings inputs return True depending on whether the total number of characters in the \n",
    "#first string is equal to the total number of characters in the second string.\n",
    "a=input('enter the name : ')\n",
    "b=input('enter the name : ')\n",
    "if len(a)==len(b):print('True')\n",
    "else:print('False')"
   ]
  },
  {
   "cell_type": "code",
   "execution_count": 23,
   "id": "34fea539",
   "metadata": {},
   "outputs": [
    {
     "name": "stdout",
     "output_type": "stream",
     "text": [
      "enter the name : vamsidhar\n",
      "vamvamvam\n"
     ]
    }
   ],
   "source": [
    "#Write a python program that takes a string input, we'll say that the front is the first three characters of the string. \n",
    "#If the string length is less than three characters, the front is whatever is there. Return a new string, \n",
    "#which is three copies of the front\n",
    "a=input('enter the name : ')\n",
    "if len(a)<=3:print(a*3)\n",
    "else:print(a[0:3]*3)"
   ]
  },
  {
   "cell_type": "code",
   "execution_count": 25,
   "id": "7cf6f403",
   "metadata": {},
   "outputs": [
    {
     "name": "stdout",
     "output_type": "stream",
     "text": [
      "enter the name : vamsi\n",
      "its a not pluarl\n"
     ]
    }
   ],
   "source": [
    "#Write a python program that takes in a word and determines whether or not it is plural. \n",
    "#A plural word is one that ends in \"s\".\n",
    "a=input('enter the name : ')\n",
    "if a.endswith('s'):print('its a pluarl')\n",
    "else:print('its a not pluarl')"
   ]
  },
  {
   "cell_type": "code",
   "execution_count": 27,
   "id": "1508d8ea",
   "metadata": {},
   "outputs": [
    {
     "name": "stdout",
     "output_type": "stream",
     "text": [
      "enter the age: 14\n",
      "give its break time or not (yes:break or no:not break):no\n",
      "he should not serve the drink\n"
     ]
    }
   ],
   "source": [
    "#A bartender is writing a simple program to determine whether he should serve drinks to someone. \n",
    "#He only serves drinks to people 18 and older and when he's not on break (True means break and False means not a break time). \n",
    "#Given the person's age, and whether break time is in session, create a python program which prints whether he should \n",
    "#serve drinks or not.\n",
    "a=int(input('enter the age: '))\n",
    "b=input('give its break time or not (yes:break or no:not break):')\n",
    "if a>18 and b=='no':print('he has to serve the drink')\n",
    "else:print('he should not serve the drink')"
   ]
  },
  {
   "cell_type": "code",
   "execution_count": 31,
   "id": "86fe2a3d",
   "metadata": {},
   "outputs": [
    {
     "name": "stdout",
     "output_type": "stream",
     "text": [
      "enter the name(shiva,letha,,tarun,kavitha):tarun\n",
      "tarun is your brother\n"
     ]
    }
   ],
   "source": [
    "#Manoj Kumar has family and friends. Help him remind them who is who. Given a string with a name, \n",
    "#return the relation of that person to Manoj Kumar.\n",
    "a={'shiva':'father','letha':'mother','kavitha':'sister','tarun':'brother'}\n",
    "b=input('enter the name(shiva,letha,,tarun,kavitha):')\n",
    "print('{} is your {}'.format(b,a[b]))"
   ]
  },
  {
   "cell_type": "code",
   "execution_count": 33,
   "id": "20ed9040",
   "metadata": {},
   "outputs": [
    {
     "name": "stdout",
     "output_type": "stream",
     "text": [
      "enter the name : vamsidhar\n",
      "volwes:aia,consonants:vmsdhr\n"
     ]
    }
   ],
   "source": [
    "#Write a python program that takes a string, breaks it up and returns it with vowels first, consonants second.\n",
    "#For any character that's not a vowel (like special characters or spaces), treat them like consonants\n",
    "a=input('enter the name : ')\n",
    "volwes=''\n",
    "consonants=''\n",
    "for i in range(len(a)):\n",
    "    if a[i]=='a' or a[i]=='e' or a[i]=='i' or a[i]=='o' or a[i]=='u':volwes=volwes+a[i]\n",
    "    else:consonants=consonants+a[i]\n",
    "print('volwes:{},consonants:{}'.format(volwes,consonants))"
   ]
  },
  {
   "cell_type": "code",
   "execution_count": 35,
   "id": "8d92eb22",
   "metadata": {},
   "outputs": [
    {
     "name": "stdout",
     "output_type": "stream",
     "text": [
      "enter the number : 10\n",
      "+,-,*,/+\n",
      "enter the number : 30\n",
      "40\n"
     ]
    }
   ],
   "source": [
    "#Create a dynamic calculator which asks for numbers and operator and return the answers\n",
    "a=int(input('enter the number : '))\n",
    "b=input('+,-,*,/')\n",
    "c=int(input('enter the number : '))\n",
    "if b=='+': print(a+c)\n",
    "elif b=='-': print(a-c)\n",
    "elif b=='*': print(a*c)\n",
    "elif b=='/': print(a/c)"
   ]
  },
  {
   "cell_type": "code",
   "execution_count": null,
   "id": "c475a311",
   "metadata": {},
   "outputs": [],
   "source": []
  }
 ],
 "metadata": {
  "kernelspec": {
   "display_name": "Python 3 (ipykernel)",
   "language": "python",
   "name": "python3"
  },
  "language_info": {
   "codemirror_mode": {
    "name": "ipython",
    "version": 3
   },
   "file_extension": ".py",
   "mimetype": "text/x-python",
   "name": "python",
   "nbconvert_exporter": "python",
   "pygments_lexer": "ipython3",
   "version": "3.9.12"
  }
 },
 "nbformat": 4,
 "nbformat_minor": 5
}

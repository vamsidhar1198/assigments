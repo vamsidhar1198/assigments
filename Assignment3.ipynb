{
 "cells": [
  {
   "cell_type": "code",
   "execution_count": 1,
   "id": "d794c2c9",
   "metadata": {},
   "outputs": [
    {
     "name": "stdout",
     "output_type": "stream",
     "text": [
      "0\n",
      "1\n",
      "2\n",
      "4\n",
      "5\n"
     ]
    }
   ],
   "source": [
    "#Write a Python program that prints all the numbers from 0 to 6 except 3 and 6\n",
    "for i in range(0,7):\n",
    "    if i==3 or i==6:continue\n",
    "    else:print(i)"
   ]
  },
  {
   "cell_type": "code",
   "execution_count": 2,
   "id": "4d48edab",
   "metadata": {},
   "outputs": [
    {
     "name": "stdout",
     "output_type": "stream",
     "text": [
      "enter the number : 10\n",
      "55\n"
     ]
    }
   ],
   "source": [
    "#Write a program to accept a number from a user and calculate the sum of all numbers from 1 to a given number\n",
    "n=int(input('enter the number : '))\n",
    "a=0\n",
    "for i in range(1,n+1):\n",
    "    a+=i \n",
    "print(a)"
   ]
  },
  {
   "cell_type": "code",
   "execution_count": 3,
   "id": "c1a492e0",
   "metadata": {},
   "outputs": [
    {
     "name": "stdout",
     "output_type": "stream",
     "text": [
      "enter the number : 5\n",
      "5x1=5\n",
      "5x2=10\n",
      "5x3=15\n",
      "5x4=20\n",
      "5x5=25\n",
      "5x6=30\n",
      "5x7=35\n",
      "5x8=40\n",
      "5x9=45\n",
      "5x10=50\n"
     ]
    }
   ],
   "source": [
    "#Write a program to print multiplication table of a given number(input)\n",
    "n=int(input('enter the number : '))\n",
    "for i in range(1,11):\n",
    "     print('{}x{}={}'.format(n,i,n*i))"
   ]
  },
  {
   "cell_type": "code",
   "execution_count": 6,
   "id": "5a5ac454",
   "metadata": {},
   "outputs": [
    {
     "name": "stdout",
     "output_type": "stream",
     "text": [
      "enter the number :12345678\n",
      "8\n"
     ]
    }
   ],
   "source": [
    "#Write a program to count the total number of digits in a number using a while loop.\n",
    "a=input('enter the number :')\n",
    "i=0\n",
    "count=0\n",
    "while i<len(a):\n",
    "    count=count+1\n",
    "    i+=1\n",
    "print(count)"
   ]
  },
  {
   "cell_type": "code",
   "execution_count": 7,
   "id": "81552f6b",
   "metadata": {},
   "outputs": [
    {
     "name": "stdout",
     "output_type": "stream",
     "text": [
      "enter the number you think : 12\n",
      "guessed number is high than you entered.....try again\n",
      "enter the number you think : 30\n",
      "guessed number is high than you entered.....try again\n",
      "enter the number you think : 40\n",
      "guessed number is high than you entered.....try again\n",
      "enter the number you think : 60\n",
      "guessed number is low than you entered.......try again\n",
      "enter the number you think : 55\n",
      "guessed number is low than you entered.......try again\n",
      "enter the number you think : 45\n",
      "guessed number is high than you entered.....try again\n",
      "enter the number you think : 50\n",
      "congrats! you guessed right\n"
     ]
    }
   ],
   "source": [
    "#Write a Python program to guess a number\n",
    "n=50\n",
    "while True:\n",
    "    a=int(input('enter the number you think : '))\n",
    "    if a==n:\n",
    "        print('congrats! you guessed right')\n",
    "        break\n",
    "    elif a<n:\n",
    "        print('guessed number is high than you entered.....try again')\n",
    "    else:\n",
    "        print('guessed number is low than you entered.......try again')"
   ]
  },
  {
   "cell_type": "code",
   "execution_count": 9,
   "id": "7d2a38f5",
   "metadata": {},
   "outputs": [
    {
     "name": "stdout",
     "output_type": "stream",
     "text": [
      "1\n",
      "2\n",
      "Fizz\n",
      "4\n",
      "Buzz\n",
      "Fizz\n",
      "7\n",
      "8\n",
      "Fizz\n",
      "Buzz\n",
      "11\n",
      "Fizz\n",
      "13\n",
      "14\n",
      "FizzBuzz\n",
      "16\n",
      "17\n",
      "Fizz\n",
      "19\n",
      "Buzz\n",
      "Fizz\n",
      "22\n",
      "23\n",
      "Fizz\n",
      "Buzz\n",
      "26\n",
      "Fizz\n",
      "28\n",
      "29\n",
      "FizzBuzz\n",
      "31\n",
      "32\n",
      "Fizz\n",
      "34\n",
      "Buzz\n",
      "Fizz\n",
      "37\n",
      "38\n",
      "Fizz\n",
      "Buzz\n",
      "41\n",
      "Fizz\n",
      "43\n",
      "44\n",
      "FizzBuzz\n",
      "46\n",
      "47\n",
      "Fizz\n",
      "49\n",
      "Buzz\n",
      "Fizz\n",
      "52\n",
      "53\n",
      "Fizz\n",
      "Buzz\n",
      "56\n",
      "Fizz\n",
      "58\n",
      "59\n",
      "FizzBuzz\n"
     ]
    }
   ],
   "source": [
    "#Write a Python program which iterates the integers from 1 to 60. For multiples of three print \"Fizz\" instead of the\n",
    "#number and for the multiples of five print \"Buzz\". For numbers which are multiples of both three and five print \"FizzBuzz\".\n",
    "for i in range(1,61):\n",
    "    if i%3==0 and i%5==0:print('FizzBuzz')\n",
    "    elif i%3==0:print('Fizz')\n",
    "    elif i%5==0:print('Buzz')\n",
    "    else:print(i)"
   ]
  },
  {
   "cell_type": "code",
   "execution_count": 11,
   "id": "4ec3074f",
   "metadata": {},
   "outputs": [
    {
     "name": "stdout",
     "output_type": "stream",
     "text": [
      "enter the string : va12ms34id56har576\n",
      "letters:9,digits:9\n"
     ]
    }
   ],
   "source": [
    "#Write a Python program that accepts a string and calculate the number of digits and letters\n",
    "a=input('enter the string : ')\n",
    "digits=0\n",
    "letters=0\n",
    "for i in range(len(a)):\n",
    "    if a[i].isalpha():letters=letters+1\n",
    "    else:digits=digits+1\n",
    "print('letters:{},digits:{}'.format(letters,digits))"
   ]
  },
  {
   "cell_type": "code",
   "execution_count": 19,
   "id": "054598d0",
   "metadata": {},
   "outputs": [
    {
     "name": "stdout",
     "output_type": "stream",
     "text": [
      "enter the password:Vamsi@1998\n",
      "Valid password\n"
     ]
    }
   ],
   "source": [
    "#Write a Python program to check the validity of password input by users.\n",
    "a=input('enter the password:')\n",
    "u=0;l=0;d=0;s=0\n",
    "if len(a)>=6 and len(a)<=16:\n",
    "    for i in range(len(a)):\n",
    "        if a[i].isupper():u=u+1\n",
    "        elif a[i].islower():l=l+1 \n",
    "        elif a[i].isdigit():d=d+1  \n",
    "        elif (a[i]=='$' or a[i]=='#' or a[i]=='@'):s=s+1\n",
    "if u>=1 and l>=1 and d>=1 and s>=1:print('Valid password')\n",
    "else:print('password didnot match requriements')"
   ]
  },
  {
   "cell_type": "code",
   "execution_count": 21,
   "id": "281d5348",
   "metadata": {},
   "outputs": [
    {
     "name": "stdout",
     "output_type": "stream",
     "text": [
      "enter the name : vamsidahr\n",
      "rhadismav\n"
     ]
    }
   ],
   "source": [
    "#Write a program in Python to reverse a word by using while loop\n",
    "a=input('enter the name : ')\n",
    "i=0\n",
    "b=-1\n",
    "c=''\n",
    "while i<len(a):\n",
    "    c=c+a[b]\n",
    "    b=b-1\n",
    "    i+=1\n",
    "print(c)   "
   ]
  },
  {
   "cell_type": "code",
   "execution_count": 22,
   "id": "b99f30ac",
   "metadata": {},
   "outputs": [
    {
     "name": "stdout",
     "output_type": "stream",
     "text": [
      "enter the number:1\n",
      "enter the number:2\n",
      "enter the number:3\n",
      "enter the number:4\n",
      "enter the number:5\n",
      "enter the number:6\n",
      "enter the number:7\n",
      "enter the number:8\n",
      "enter the number:9\n",
      "enter the number:10\n",
      "avg of [1, 2, 3, 4, 5, 6, 7, 8, 9, 10] is 5.5\n"
     ]
    }
   ],
   "source": [
    "#Write a program which takes 10 integers as input using loop and print their average value on the screen\n",
    "i=0\n",
    "b=[]\n",
    "while i<10:\n",
    "    a=int(input('enter the number:'))\n",
    "    b.append(a)\n",
    "    i+=1\n",
    "c=0\n",
    "for i in range(len(b)):\n",
    "    c=c+b[i]\n",
    "print('avg of {} is {}'.format(b,c/len(b)))"
   ]
  },
  {
   "cell_type": "code",
   "execution_count": 26,
   "id": "3dcabe68",
   "metadata": {},
   "outputs": [
    {
     "name": "stdout",
     "output_type": "stream",
     "text": [
      "enter the number:1\n",
      "enter the number:2\n",
      "enter the number:3\n",
      "enter the number:4\n",
      "enter the number:5\n",
      "enter the number:6\n",
      "enter the number:7\n",
      "enter the number:8\n",
      "enter the number:9\n",
      "enter the number:10\n",
      "enter the number:q\n",
      "['1', '2', '3', '4', '5', '6', '7', '8', '9', '10'] avg is 5.5 and product is 3628800\n"
     ]
    }
   ],
   "source": [
    "#Write a program which takes integer inputs from user until he/she presses “q” (Ask to press q to quit after every integer input). \n",
    "#Print average and product of all numbers.\n",
    "b=[]\n",
    "while True:\n",
    "    a=input('enter the number:')\n",
    "    if a=='q':\n",
    "        break\n",
    "    b.append(a)\n",
    "    \n",
    "c=0\n",
    "d=1\n",
    "for i in range(len(b)):\n",
    "    c=c+int(b[i])\n",
    "    d=d*int(b[i])\n",
    "print('{} avg is {} and product is {}'.format(b,c/len(b),d))"
   ]
  },
  {
   "cell_type": "code",
   "execution_count": 27,
   "id": "bdec2594",
   "metadata": {},
   "outputs": [
    {
     "name": "stdout",
     "output_type": "stream",
     "text": [
      "enter the string:v123akjnds09u2nis123\n",
      "vakjndsunis\n"
     ]
    }
   ],
   "source": [
    "#Write a Python program which will remove all digits or any other characters from the string except alphabets\n",
    "a=input('enter the string:')\n",
    "b=''\n",
    "for i in range(len(a)):\n",
    "    if a[i].isalpha():\n",
    "        b=b+a[i]\n",
    "print(b)\n",
    "        "
   ]
  },
  {
   "cell_type": "code",
   "execution_count": 28,
   "id": "7f1ba6d7",
   "metadata": {},
   "outputs": [
    {
     "name": "stdout",
     "output_type": "stream",
     "text": [
      "sum of all even numbers from 1 to 10 is 30\n"
     ]
    }
   ],
   "source": [
    "#Write a python program to find the sum of all even numbers from 0 to 10\n",
    "a=0\n",
    "for i in range(1,11):\n",
    "    if i%2==0:a=a+i\n",
    "print(\"sum of all even numbers from 1 to 10 is\",a)"
   ]
  },
  {
   "cell_type": "code",
   "execution_count": 31,
   "id": "bf8d914f",
   "metadata": {},
   "outputs": [
    {
     "name": "stdout",
     "output_type": "stream",
     "text": [
      "enter the number:10\n",
      "9\n",
      "8\n",
      "7\n",
      "6\n",
      "5\n",
      "4\n",
      "3\n",
      "2\n",
      "1\n",
      "0\n"
     ]
    }
   ],
   "source": [
    "#Write a python program which will accept a digit and print All the numbers before it till 0\n",
    "n=int(input('enter the number:'))\n",
    "for i in range(n-1,-1,-1):\n",
    "    print(i)\n"
   ]
  },
  {
   "cell_type": "code",
   "execution_count": 33,
   "id": "bb24a478",
   "metadata": {},
   "outputs": [
    {
     "name": "stdout",
     "output_type": "stream",
     "text": [
      "enter c if you want to stop the calculator:no\n",
      "enter the number10\n",
      "+,-,*,/+\n",
      "enter the number20\n",
      "the sum of 10 and 20 is 30\n",
      "enter c if you want to stop the calculator:no\n",
      "enter the number10\n",
      "+,-,*,/*\n",
      "enter the number20\n",
      "the mul of 10 and 20 is 200\n",
      "enter c if you want to stop the calculator:c\n"
     ]
    }
   ],
   "source": [
    "#Create a dynamic calculator which will run continually till you press “c”\n",
    "while True:\n",
    "    a=input('enter c if you want to stop the calculator:')\n",
    "    if a=='c':\n",
    "        break\n",
    "    b=int(input('enter the number'))\n",
    "    c=input('+,-,*,/')\n",
    "    d=int(input('enter the number'))\n",
    "    if c=='+':print(\"the sum of {} and {} is {}\".format(b,d,b+d))\n",
    "    if c=='-':print(\"the sub of {} and {} is {}\".format(b,d,b-d))\n",
    "    if c=='*':print(\"the mul of {} and {} is {}\".format(b,d,b*d))\n",
    "    if c=='/':print(\"the div of {} and {} is {}\".format(b,d,b/d))"
   ]
  },
  {
   "cell_type": "code",
   "execution_count": null,
   "id": "eb3c4337",
   "metadata": {},
   "outputs": [],
   "source": []
  }
 ],
 "metadata": {
  "kernelspec": {
   "display_name": "Python 3 (ipykernel)",
   "language": "python",
   "name": "python3"
  },
  "language_info": {
   "codemirror_mode": {
    "name": "ipython",
    "version": 3
   },
   "file_extension": ".py",
   "mimetype": "text/x-python",
   "name": "python",
   "nbconvert_exporter": "python",
   "pygments_lexer": "ipython3",
   "version": "3.9.12"
  }
 },
 "nbformat": 4,
 "nbformat_minor": 5
}

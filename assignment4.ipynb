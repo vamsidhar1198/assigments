{
 "cells": [
  {
   "cell_type": "code",
   "execution_count": 1,
   "id": "14d0e16d",
   "metadata": {},
   "outputs": [
    {
     "name": "stdout",
     "output_type": "stream",
     "text": [
      "1\n",
      "2\n",
      "3\n",
      "4\n",
      "5\n",
      "6\n"
     ]
    }
   ],
   "source": [
    "#Write a Python program to loop through all the elements in a list\n",
    "x=[1,2,3,4,5,6]\n",
    "for i in range(len(x)):\n",
    "    print(x[i])"
   ]
  },
  {
   "cell_type": "code",
   "execution_count": 3,
   "id": "b76431a5",
   "metadata": {},
   "outputs": [
    {
     "name": "stdout",
     "output_type": "stream",
     "text": [
      "Do you want to enter elements in the list ? (yes/no):yes\n",
      "enter the element : 1\n",
      "Do you want to enter elements in the list ? (yes/no):yes\n",
      "enter the element : 2\n",
      "Do you want to enter elements in the list ? (yes/no):yes\n",
      "enter the element : 3\n",
      "Do you want to enter elements in the list ? (yes/no):no\n",
      "[1, 2, 3]\n"
     ]
    }
   ],
   "source": [
    "#Write a Python program where you will ask the users to insert elements in a list\n",
    "x=[]\n",
    "while True:\n",
    "    a=input('Do you want to enter elements in the list ? (yes/no):')\n",
    "    if a=='yes':\n",
    "        b=int(input('enter the element : '))\n",
    "        x.append(b)\n",
    "    else:\n",
    "        break\n",
    "print(x)"
   ]
  },
  {
   "cell_type": "code",
   "execution_count": 5,
   "id": "7ddfde70",
   "metadata": {},
   "outputs": [
    {
     "name": "stdout",
     "output_type": "stream",
     "text": [
      "[0, 2, 4, 6, 8]\n"
     ]
    }
   ],
   "source": [
    "#Write a Python program to remove all the odd index value from a list and only even index elements should remain\n",
    "x=[0,1,2,3,4,5,6,7,8]\n",
    "even=[]\n",
    "for i in range(len(x)):\n",
    "    if i%2==0:\n",
    "        even.append(x[i])\n",
    "print(even)"
   ]
  },
  {
   "cell_type": "code",
   "execution_count": 6,
   "id": "d9f99d12",
   "metadata": {},
   "outputs": [
    {
     "name": "stdout",
     "output_type": "stream",
     "text": [
      "[1, 2, 3, 4, 5, 6, 7, 8] addition is 36 and multiplication is 40320\n"
     ]
    }
   ],
   "source": [
    "#Write a Python program to sum and multiply all the items in a list\n",
    "x=[1,2,3,4,5,6,7,8]\n",
    "add=0\n",
    "mul=1\n",
    "for i in range(len(x)):\n",
    "    add=add+x[i]\n",
    "    mul=mul*x[i]\n",
    "print('{} addition is {} and multiplication is {}'.format(x,add,mul))\n",
    "    "
   ]
  },
  {
   "cell_type": "code",
   "execution_count": 7,
   "id": "ec8b6681",
   "metadata": {},
   "outputs": [
    {
     "name": "stdout",
     "output_type": "stream",
     "text": [
      "min and maxvalues from the list are 2 and 98\n"
     ]
    }
   ],
   "source": [
    "#Write a Python program to get the maximum and minimum numbers from a list\n",
    "x=[19,2,56,72,2,98,5]\n",
    "x.sort()\n",
    "print('min and maxvalues from the list are {} and {}'.format(x[0],x[-1]))"
   ]
  },
  {
   "cell_type": "code",
   "execution_count": 10,
   "id": "bf0241a4",
   "metadata": {},
   "outputs": [
    {
     "name": "stdout",
     "output_type": "stream",
     "text": [
      "before removing [5, 4, 3, 2, 1, 6]\n",
      "after removing [4, 3, 2]\n"
     ]
    }
   ],
   "source": [
    "#Write a Python program to print a specified list after removing the 0th, 4th and 5th elements.\n",
    "x=[5,4,3,2,1,6]\n",
    "c=x.copy()\n",
    "x.pop(0) #0th element in list\n",
    "x.pop(3) #4th element in list its values is upadate to 3rd after removing 0th element\n",
    "x.pop(3) #4th element in list its values is upadate to 3rd after removing 0th element and 4th element\n",
    "print('before removing {}\\nafter removing {}'.format(c,x))"
   ]
  },
  {
   "cell_type": "code",
   "execution_count": 12,
   "id": "cb928860",
   "metadata": {},
   "outputs": [
    {
     "data": {
      "text/plain": [
       "'vamsi'"
      ]
     },
     "execution_count": 12,
     "metadata": {},
     "output_type": "execute_result"
    }
   ],
   "source": [
    "#Write a Python program to convert a list of characters into a string\n",
    "x=['v','a','m','s','i']\n",
    "a=\"\".join(x)\n",
    "a"
   ]
  },
  {
   "cell_type": "code",
   "execution_count": 13,
   "id": "a93ec792",
   "metadata": {},
   "outputs": [
    {
     "name": "stdout",
     "output_type": "stream",
     "text": [
      "avg of [1, 2, 3, 4, 5, 6, 7, 8] is 4.5\n"
     ]
    }
   ],
   "source": [
    "#Write a Python program to compute average of given lists\n",
    "x=[1,2,3,4,5,6,7,8]\n",
    "avg=0\n",
    "for i in range(len(x)):\n",
    "    avg=avg+x[i]\n",
    "print('avg of {} is {}'.format(x,avg/len(x)))"
   ]
  },
  {
   "cell_type": "code",
   "execution_count": 18,
   "id": "f777f87e",
   "metadata": {},
   "outputs": [
    {
     "name": "stdout",
     "output_type": "stream",
     "text": [
      "6\n"
     ]
    }
   ],
   "source": [
    "#Write a Python program to count integer in a given mixed list.\n",
    "x=['a',1,2,5,8,2.3,4+5j,'abc']\n",
    "count=0\n",
    "for i in range(len(x)):\n",
    "    if type(x[i])==int or  type(x[i])==float or type(x[i])==complex:\n",
    "           count+=1\n",
    "print(count)"
   ]
  },
  {
   "cell_type": "code",
   "execution_count": 22,
   "id": "8f05d728",
   "metadata": {},
   "outputs": [
    {
     "data": {
      "text/plain": [
       "[6, 5, 4, 3, 2, 1]"
      ]
     },
     "execution_count": 22,
     "metadata": {},
     "output_type": "execute_result"
    }
   ],
   "source": [
    "#Write a Python program to reverse the list\n",
    "x=[1,2,3,4,5,6]\n",
    "x[::-1]"
   ]
  },
  {
   "cell_type": "code",
   "execution_count": 23,
   "id": "1d54bcab",
   "metadata": {},
   "outputs": [
    {
     "name": "stdout",
     "output_type": "stream",
     "text": [
      "enter the string : python1.2\n"
     ]
    },
    {
     "data": {
      "text/plain": [
       "('p', 'y', 't', 'h', 'o', 'n', '1', '.', '2')"
      ]
     },
     "execution_count": 23,
     "metadata": {},
     "output_type": "execute_result"
    }
   ],
   "source": [
    "#Write a Python program convert a given string to a tuple\n",
    "x=input('enter the string : ')\n",
    "y=[]\n",
    "y.extend(x)\n",
    "z=tuple(y)\n",
    "z"
   ]
  },
  {
   "cell_type": "code",
   "execution_count": null,
   "id": "b7a1c2d4",
   "metadata": {},
   "outputs": [],
   "source": []
  }
 ],
 "metadata": {
  "kernelspec": {
   "display_name": "Python 3 (ipykernel)",
   "language": "python",
   "name": "python3"
  },
  "language_info": {
   "codemirror_mode": {
    "name": "ipython",
    "version": 3
   },
   "file_extension": ".py",
   "mimetype": "text/x-python",
   "name": "python",
   "nbconvert_exporter": "python",
   "pygments_lexer": "ipython3",
   "version": "3.9.12"
  }
 },
 "nbformat": 4,
 "nbformat_minor": 5
}

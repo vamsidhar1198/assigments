{
 "cells": [
  {
   "cell_type": "code",
   "execution_count": 1,
   "id": "cbd0ee83",
   "metadata": {},
   "outputs": [
    {
     "data": {
      "text/plain": [
       "[1, 2, 3, 4, 7, 8, 9]"
      ]
     },
     "execution_count": 1,
     "metadata": {},
     "output_type": "execute_result"
    }
   ],
   "source": [
    "#Given a list of numbers, write a python program that returns a new list which Has all duplicate elements removed. \n",
    "#And is sorted in an increasing order.\n",
    "x=[2,1,3,4,2,3,3,2,7,9,8,7]\n",
    "y=set(x)\n",
    "z=list(y)\n",
    "z.sort()\n",
    "z"
   ]
  },
  {
   "cell_type": "code",
   "execution_count": 2,
   "id": "72aed060",
   "metadata": {},
   "outputs": [
    {
     "name": "stdout",
     "output_type": "stream",
     "text": [
      "('name', 'vamsi')\n",
      "('age', 24)\n",
      "('height', 153)\n"
     ]
    }
   ],
   "source": [
    "#Write a Python program where you will iterate over both keys and values in dictionaries\n",
    "dic1={'name':'vamsi','age':24,'height':153}\n",
    "for i in dic1.items():\n",
    "    print(i)"
   ]
  },
  {
   "cell_type": "code",
   "execution_count": 6,
   "id": "e2332c94",
   "metadata": {},
   "outputs": [
    {
     "data": {
      "text/plain": [
       "['Gephi', 'Manoj', 'Tarun']"
      ]
     },
     "execution_count": 6,
     "metadata": {},
     "output_type": "execute_result"
    }
   ],
   "source": [
    "#Write a Python program that takes a dictionary of student names and returns a list of student names in alphabetical order\n",
    "dic1={'Student 1': \"Tarun\", \"Student 2\": \"Manoj\", \"Student 3\": \"Gephi\"}\n",
    "x=[]\n",
    "for i in dic1.values():\n",
    "     x.append(i)\n",
    "x.sort()\n",
    "x"
   ]
  },
  {
   "cell_type": "code",
   "execution_count": 10,
   "id": "1865c4f1",
   "metadata": {},
   "outputs": [
    {
     "name": "stdout",
     "output_type": "stream",
     "text": [
      "enter 0s and 1s:10101100\n",
      "['True', 'False', 'True', 'False', 'True', 'True', 'False', 'False']\n"
     ]
    }
   ],
   "source": [
    "#Write a Python which returns a new list of Booleans, from a given number. \n",
    "#Iterating through the number one digit at a time, append True if the digit is 1 and False if it is 0.\n",
    "x=input('enter 0s and 1s:')\n",
    "y=[]\n",
    "for i in range(len(x)):\n",
    "    if x[i]=='0': y.append('False')\n",
    "    elif x[i]=='1':y.append('True')\n",
    "print(y)"
   ]
  },
  {
   "cell_type": "code",
   "execution_count": 12,
   "id": "35f36078",
   "metadata": {},
   "outputs": [
    {
     "name": "stdout",
     "output_type": "stream",
     "text": [
      "enter the string : my name is ame\n",
      "{'y': 1, 'i': 1, 'm': 3, 'a': 2, 'e': 2, ' ': 3, 'n': 1, 's': 1}\n"
     ]
    }
   ],
   "source": [
    "#Write a Python program where you will return a dictionary where the keys will be the character and \n",
    "#the values will be the occurrence of the character in the string, and it should for any string inputs (dynamic)\n",
    "x=input('enter the string : ')\n",
    "y=[]\n",
    "y.extend(x)\n",
    "z=set(y)\n",
    "y=list(z)\n",
    "dic={}\n",
    "for i in range(len(y)):\n",
    "    dic.update({y[i]:x.count(y[i])})\n",
    "print(dic)"
   ]
  },
  {
   "cell_type": "code",
   "execution_count": 7,
   "id": "a1bf6dca",
   "metadata": {},
   "outputs": [
    {
     "name": "stdout",
     "output_type": "stream",
     "text": [
      "the name of oldest preson is Ackes\n"
     ]
    }
   ],
   "source": [
    "#Given a dictionary containing the names and ages of a group of people, return the name of the oldest person\n",
    "x={\"Tmma\": 41, \"Ackes\": 45, \"myna\": 15, \"Benthon\": 29}\n",
    "a=[]\n",
    "for i in x.values():\n",
    "    a.append(i)\n",
    "    a.sort()\n",
    "for j in x.keys():\n",
    "    if x[j]==a[-1]:\n",
    "        b=j\n",
    "print('the name of oldest preson is',b)"
   ]
  },
  {
   "cell_type": "code",
   "execution_count": 1,
   "id": "21f0de18",
   "metadata": {},
   "outputs": [
    {
     "name": "stdout",
     "output_type": "stream",
     "text": [
      "the name of oldest preson is Ackes\n"
     ]
    }
   ],
   "source": [
    "x={\"Tmma\": 41, \"Ackes\": 45, \"myna\": 15, \"Benthon\": 29}\n",
    "maxx=max(zip(x.values(),x.keys()))[1]\n",
    "print('the name of oldest preson is',maxx)"
   ]
  },
  {
   "cell_type": "code",
   "execution_count": 8,
   "id": "9d52058c",
   "metadata": {},
   "outputs": [
    {
     "name": "stdout",
     "output_type": "stream",
     "text": [
      "enter r for ROCK\tp for PAPER\ts for sicssor\n",
      "enter player1 choice : r\n",
      "enter player2 choice : p\n",
      "player2 wins\n"
     ]
    }
   ],
   "source": [
    "#Write a Python program to create a Rock, Paper, Scissor game, use two inputs for two players:\n",
    "print(\"enter r for ROCK\\tp for PAPER\\ts for sicssor\")\n",
    "player1=input(\"enter player1 choice : \")\n",
    "player2=input('enter player2 choice : ')\n",
    "if (player1=='r' and player2=='s') or (player1=='p' and player2=='r') or (player1=='s' and player2=='p'):\n",
    "    print('player1 wins')\n",
    "elif (player1==player2):\n",
    "    print('tie')\n",
    "else:\n",
    "    print('player2 wins')"
   ]
  },
  {
   "cell_type": "code",
   "execution_count": 3,
   "id": "d1fa71a7",
   "metadata": {},
   "outputs": [
    {
     "name": "stdout",
     "output_type": "stream",
     "text": [
      "enter the money in your wallet : 100\n",
      "['water bottles', 'chips', 'towel', 'pens']\n"
     ]
    }
   ],
   "source": [
    "#Create a program that returns a list of items that you can afford in the store with the money you have in your wallet. \n",
    "#Create a dictionary with items as key and price as values\n",
    "x={'water bottles': 20,'chips':10, 'Iphone':49000, 'towel':90, 'pens':58, 'cake':400}\n",
    "a=[]\n",
    "y=[]\n",
    "b=int(input('enter the money in your wallet : '))\n",
    "for i in x.values():\n",
    "    a.append(i)\n",
    "    a.sort()\n",
    "for j in x.keys():\n",
    "    if x[j]<b:\n",
    "        y.append(j)\n",
    "print(y)\n",
    "        "
   ]
  },
  {
   "cell_type": "code",
   "execution_count": 4,
   "id": "ed547a7e",
   "metadata": {},
   "outputs": [
    {
     "data": {
      "text/plain": [
       "{1, 2, 3, 4, 5, 6, 7, 8}"
      ]
     },
     "execution_count": 4,
     "metadata": {},
     "output_type": "execute_result"
    }
   ],
   "source": [
    "#Write a Python program to create a union of sets\n",
    "s1={1,2,3,4,5,6}\n",
    "s2={3,4,5,6,7,8}\n",
    "s1.union(s2)"
   ]
  },
  {
   "cell_type": "code",
   "execution_count": 9,
   "id": "f6c87f1d",
   "metadata": {},
   "outputs": [
    {
     "name": "stdout",
     "output_type": "stream",
     "text": [
      "do you want to add element (yes/no): yes\n",
      "enter the element: 1\n",
      "do you want to add element (yes/no): yes\n",
      "enter the element: 2\n",
      "do you want to add element (yes/no): yes\n",
      "enter the element: 3\n",
      "do you want to add element (yes/no): yes\n",
      "enter the element: 4\n",
      "do you want to add element (yes/no): yes\n",
      "enter the element: 5\n",
      "do you want to add element (yes/no): no\n",
      "enter the element you want to check : 3\n",
      "3 present in the set {'1', '5', '3', '4', '2'}\n"
     ]
    }
   ],
   "source": [
    "#Write a Python program to check if a given value is present in a set or not\n",
    "a=[]\n",
    "while True:\n",
    "    \n",
    "    c=input('do you want to add element (yes/no): ')\n",
    "    if c=='no':\n",
    "        break\n",
    "    b=input('enter the element: ')\n",
    "    a.append(b)\n",
    "    \n",
    "d=set(a)\n",
    "e=input('enter the element you want to check : ')\n",
    "if e in d:\n",
    "    print(e,'present in the set',d)"
   ]
  },
  {
   "cell_type": "code",
   "execution_count": 27,
   "id": "e34ee417",
   "metadata": {},
   "outputs": [
    {
     "data": {
      "text/plain": [
       "{'dog': 5, 'mouse': 3, 'cat': 3}"
      ]
     },
     "execution_count": 27,
     "metadata": {},
     "output_type": "execute_result"
    }
   ],
   "source": [
    "#Write a Python program to find the occurrences of 3 most common words in a given text. And make it as a dictionaries\n",
    "x='cat dog dog cat horse dog dog mouse horse dog mouse tiger lion tiger cat mouse snail'\n",
    "a=x.split()\n",
    "b=set(a)\n",
    "b=list(b)\n",
    "dic1={}\n",
    "dic2={}\n",
    "for i in b:\n",
    "    dic1.update({i:x.count(i)})\n",
    "for j in range(3):\n",
    "    maxk=max(zip(dic1.values(),dic1.keys()))[1]\n",
    "    maxv=max(zip(dic1.values(),dic1.keys()))[0]\n",
    "    dic2.update({maxk:maxv})\n",
    "    dic1.pop(maxk)\n",
    "dic2"
   ]
  },
  {
   "cell_type": "code",
   "execution_count": 30,
   "id": "20cb94aa",
   "metadata": {},
   "outputs": [
    {
     "name": "stdout",
     "output_type": "stream",
     "text": [
      "do you want to enter marks and subjects (yes/no):yes\n",
      "enter the subject name : math\n",
      "enter the marks for the subject : 70\n",
      "do you want to enter marks and subjects (yes/no):yes\n",
      "enter the subject name : science\n",
      "enter the marks for the subject : 80\n",
      "do you want to enter marks and subjects (yes/no):yes\n",
      "enter the subject name : social\n",
      "enter the marks for the subject : 75\n",
      "do you want to enter marks and subjects (yes/no):yes\n",
      "enter the subject name : english\n",
      "enter the marks for the subject : 85\n",
      "do you want to enter marks and subjects (yes/no):no\n"
     ]
    },
    {
     "data": {
      "text/plain": [
       "{'math': 70, 'science': 80, 'social': 75, 'english': 85}"
      ]
     },
     "execution_count": 30,
     "metadata": {},
     "output_type": "execute_result"
    }
   ],
   "source": [
    "#Write a Python program that accepts name of given subject and mark, and make subjects as keys in dictionaries and \n",
    "#marks as values and print the final dictionary with subjects and marks\n",
    "dic1={}\n",
    "while True:\n",
    "    a=input('do you want to enter marks and subjects (yes/no):')\n",
    "    if a=='no':\n",
    "        break\n",
    "    sub=input('enter the subject name : ')\n",
    "    marks=int(input('enter the marks for the subject : '))\n",
    "    dic1.update({sub:marks})\n",
    "dic1"
   ]
  },
  {
   "cell_type": "code",
   "execution_count": null,
   "id": "cae9028a",
   "metadata": {},
   "outputs": [],
   "source": []
  }
 ],
 "metadata": {
  "kernelspec": {
   "display_name": "Python 3 (ipykernel)",
   "language": "python",
   "name": "python3"
  },
  "language_info": {
   "codemirror_mode": {
    "name": "ipython",
    "version": 3
   },
   "file_extension": ".py",
   "mimetype": "text/x-python",
   "name": "python",
   "nbconvert_exporter": "python",
   "pygments_lexer": "ipython3",
   "version": "3.9.12"
  }
 },
 "nbformat": 4,
 "nbformat_minor": 5
}

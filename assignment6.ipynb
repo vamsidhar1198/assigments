{
 "cells": [
  {
   "cell_type": "code",
   "execution_count": 1,
   "id": "161fa5e0",
   "metadata": {},
   "outputs": [],
   "source": [
    "#Define a function which will return Max of three numbers\n",
    "def f1(a,b,c):\n",
    "    print(max(a,b,c))\n"
   ]
  },
  {
   "cell_type": "code",
   "execution_count": 2,
   "id": "367f515d",
   "metadata": {},
   "outputs": [
    {
     "name": "stdout",
     "output_type": "stream",
     "text": [
      "30\n"
     ]
    }
   ],
   "source": [
    "f1(10,20,30)"
   ]
  },
  {
   "cell_type": "code",
   "execution_count": 3,
   "id": "4ad20cfd",
   "metadata": {},
   "outputs": [],
   "source": [
    "#Define a Python Function to reverse a string.\n",
    "def f2(x):\n",
    "    print(x[::-1])"
   ]
  },
  {
   "cell_type": "code",
   "execution_count": 4,
   "id": "b1509f44",
   "metadata": {},
   "outputs": [
    {
     "name": "stdout",
     "output_type": "stream",
     "text": [
      "rhadismav\n"
     ]
    }
   ],
   "source": [
    "f2('vamsidahr')"
   ]
  },
  {
   "cell_type": "code",
   "execution_count": 5,
   "id": "c30febd6",
   "metadata": {},
   "outputs": [],
   "source": [
    "#Write a Python program to define a function that accepts 2 values and return its sum, subtraction and multiplication.\n",
    "def f3(a,b):\n",
    "    return a+b,a*b,a-b"
   ]
  },
  {
   "cell_type": "code",
   "execution_count": 6,
   "id": "a36893a4",
   "metadata": {},
   "outputs": [
    {
     "name": "stdout",
     "output_type": "stream",
     "text": [
      "enter the number : 10\n",
      "enter the number : 5\n",
      "add-15,mu1-50,sub-5\n"
     ]
    }
   ],
   "source": [
    "a=int(input('enter the number : '))\n",
    "b=int(input('enter the number : '))\n",
    "c=f3(a,b)\n",
    "print('add-{},mu1-{},sub-{}'.format(c[0],c[1],c[2]))"
   ]
  },
  {
   "cell_type": "code",
   "execution_count": 1,
   "id": "000a3611",
   "metadata": {},
   "outputs": [],
   "source": [
    "#Define a function that accepts roll number and returns whether the student is present or absent.\n",
    "def f4(x,a):\n",
    "    if a in x:return 'present'\n",
    "    else:return 'absent'"
   ]
  },
  {
   "cell_type": "code",
   "execution_count": 4,
   "id": "f6fda95e",
   "metadata": {},
   "outputs": [
    {
     "name": "stdout",
     "output_type": "stream",
     "text": [
      "enter  the roll number you want to check :150\n"
     ]
    },
    {
     "data": {
      "text/plain": [
       "'absent'"
      ]
     },
     "execution_count": 4,
     "metadata": {},
     "output_type": "execute_result"
    }
   ],
   "source": [
    "x=[100,110,120,130,140,160]\n",
    "a=int(input('enter  the roll number you want to check :'))\n",
    "b=f4(x,a)\n",
    "b"
   ]
  },
  {
   "cell_type": "code",
   "execution_count": 3,
   "id": "a29428b4",
   "metadata": {},
   "outputs": [],
   "source": [
    "#Define a function in python that accepts n values and returns the maximum of n numbers\n",
    "def f5(*x):\n",
    "    a=max(x)\n",
    "    print(\"max of\",x,'is',a)"
   ]
  },
  {
   "cell_type": "code",
   "execution_count": 4,
   "id": "416ae441",
   "metadata": {},
   "outputs": [
    {
     "name": "stdout",
     "output_type": "stream",
     "text": [
      "max of (19, 7, 345, 23, 98, 14) is 345\n"
     ]
    }
   ],
   "source": [
    "f5(19,7,345,23,98,14)"
   ]
  },
  {
   "cell_type": "code",
   "execution_count": 1,
   "id": "4622aa46",
   "metadata": {},
   "outputs": [],
   "source": [
    "#Define a function which counts vowels and consonant in a word.\n",
    "def f6(x):\n",
    "    const=0\n",
    "    volwes=0\n",
    "    v=['a','e','i','o','u']\n",
    "    for i in x:\n",
    "        a=i.lower()\n",
    "        if a in v:volwes=volwes+1\n",
    "        else:const=const+1\n",
    "    print('no:of consonant is {} and volwes {}'.format(const,volwes))\n",
    "        "
   ]
  },
  {
   "cell_type": "code",
   "execution_count": 2,
   "id": "189d7b0a",
   "metadata": {},
   "outputs": [
    {
     "name": "stdout",
     "output_type": "stream",
     "text": [
      "no:of consonant is 6 and volwes 3\n"
     ]
    }
   ],
   "source": [
    "f6('VamSiDhar')"
   ]
  },
  {
   "cell_type": "code",
   "execution_count": 1,
   "id": "aa757025",
   "metadata": {},
   "outputs": [],
   "source": [
    "#Define a function that returns Factorial of a number\n",
    "def f7(x):\n",
    "    a=1\n",
    "    for i in range(1,x+1):\n",
    "        a=a*i\n",
    "    return print('the factorial of {} is {}'.format(x,a))"
   ]
  },
  {
   "cell_type": "code",
   "execution_count": 2,
   "id": "ea0aa595",
   "metadata": {},
   "outputs": [
    {
     "name": "stdout",
     "output_type": "stream",
     "text": [
      "the factorial of 10 is 3628800\n"
     ]
    }
   ],
   "source": [
    "f7(10)"
   ]
  },
  {
   "cell_type": "code",
   "execution_count": 4,
   "id": "e07da93d",
   "metadata": {},
   "outputs": [],
   "source": [
    "#Define a function that accepts radius and returns the area of a circle.\n",
    "def f8(x):\n",
    "    area=(22/7)*(x**2)\n",
    "    return print('the area of cirlce of raidus {} cm is {} cm2'.format(x,area))"
   ]
  },
  {
   "cell_type": "code",
   "execution_count": 5,
   "id": "d68ba8a4",
   "metadata": {},
   "outputs": [
    {
     "name": "stdout",
     "output_type": "stream",
     "text": [
      "the area of cirlce of raidus 5 cm is 78.57142857142857 cm2\n"
     ]
    }
   ],
   "source": [
    "f8(5)"
   ]
  },
  {
   "cell_type": "code",
   "execution_count": 18,
   "id": "f4448e1b",
   "metadata": {},
   "outputs": [],
   "source": [
    "#Define a function that takes a number as a parameter and check the number is prime or not.\n",
    "def f9(x):\n",
    "    j=0\n",
    "    for i in range(2,x-1):\n",
    "        if x%i==0:\n",
    "            j+=1\n",
    "    if j>0:return print('{} is not prime number'.format(x))\n",
    "    else: return print('{} is prime number'.format(x))"
   ]
  },
  {
   "cell_type": "code",
   "execution_count": 19,
   "id": "5f2982ba",
   "metadata": {},
   "outputs": [
    {
     "name": "stdout",
     "output_type": "stream",
     "text": [
      "enter the number :73\n",
      "73 is prime number\n"
     ]
    }
   ],
   "source": [
    "a=int(input('enter the number :'))\n",
    "f9(a)"
   ]
  },
  {
   "cell_type": "code",
   "execution_count": 22,
   "id": "7d62b613",
   "metadata": {},
   "outputs": [],
   "source": [
    "#Mary wants to run a 25-mile marathon. When she attempts to sign up for the marathon, she notices the sign-up sheet \n",
    "#doesn't directly state the marathon's length. Instead, the marathon's length is listed in small, different portions. \n",
    "#Help Mary find out how long the marathon actually is. So create a function that\n",
    "#** Return True if the marathon is 25 miles long, otherwise, return False.\n",
    "def f10(x):\n",
    "    a=0\n",
    "    for i in x:\n",
    "        a=a+i\n",
    "    if a==25: return 'True'\n",
    "    else: return 'False'"
   ]
  },
  {
   "cell_type": "code",
   "execution_count": 25,
   "id": "5a003da9",
   "metadata": {},
   "outputs": [
    {
     "data": {
      "text/plain": [
       "'True'"
      ]
     },
     "execution_count": 25,
     "metadata": {},
     "output_type": "execute_result"
    }
   ],
   "source": [
    "f10([1,2,3,4,5,6,7,-3])"
   ]
  },
  {
   "cell_type": "code",
   "execution_count": 30,
   "id": "d0a4d8ae",
   "metadata": {},
   "outputs": [],
   "source": [
    "#Create a function that takes a number and returns True if the number is automorphic, False if it isn't.\n",
    "def f11(x):\n",
    "    a=x**2\n",
    "    b=str(a)\n",
    "    if b[-1]==str(x): return print('{} is an automorphic'.format(x))\n",
    "    else: return print('{} is not an automorphic'.format(x))"
   ]
  },
  {
   "cell_type": "code",
   "execution_count": 33,
   "id": "46392d15",
   "metadata": {},
   "outputs": [
    {
     "name": "stdout",
     "output_type": "stream",
     "text": [
      "6 is an automorphic\n"
     ]
    }
   ],
   "source": [
    "f11(6)"
   ]
  },
  {
   "cell_type": "code",
   "execution_count": 34,
   "id": "a5b0d7d2",
   "metadata": {},
   "outputs": [],
   "source": [
    "#Create a function, that will take given a, b, c, and do the following: Add a to itself b times and Check if the result \n",
    "#is divisible by c. and return true if it is divisible by c or false\n",
    "def f12(a,b,c):\n",
    "    if (a*b)%c==0:return 'True'\n",
    "    else: return 'False'"
   ]
  },
  {
   "cell_type": "code",
   "execution_count": 36,
   "id": "5c18bd1c",
   "metadata": {},
   "outputs": [
    {
     "data": {
      "text/plain": [
       "'True'"
      ]
     },
     "execution_count": 36,
     "metadata": {},
     "output_type": "execute_result"
    }
   ],
   "source": [
    "f12(1,8,2)"
   ]
  },
  {
   "cell_type": "code",
   "execution_count": 56,
   "id": "81c18596",
   "metadata": {},
   "outputs": [],
   "source": [
    "#Create a function that changes specific words into emoticons. Given a sentence as a string, \n",
    "#replace the words smile, grin, sad and mad with their corresponding emoticons.\n",
    "def f13(x):\n",
    "    a=x.split()\n",
    "    b=''\n",
    "    for i in a:\n",
    "        if i=='smile': return x.replace('smile',':D')\n",
    "        elif i=='grin':return x.replace('grin',':)')\n",
    "        elif i=='sad': return x.replace('sad',':(')\n",
    "        elif i=='mad': return x.replace('mad',':p')"
   ]
  },
  {
   "cell_type": "code",
   "execution_count": 58,
   "id": "547ad97c",
   "metadata": {},
   "outputs": [
    {
     "name": "stdout",
     "output_type": "stream",
     "text": [
      "i want to :D now\n",
      "i am :) now\n",
      "i am :( now\n",
      "i am :p at you\n"
     ]
    }
   ],
   "source": [
    "print(f13('i want to smile now'))\n",
    "print(f13('i am grin now'))\n",
    "print(f13('i am sad now'))\n",
    "print(f13('i am mad at you'))"
   ]
  },
  {
   "cell_type": "code",
   "execution_count": 66,
   "id": "960cc2e0",
   "metadata": {},
   "outputs": [
    {
     "name": "stdout",
     "output_type": "stream",
     "text": [
      "[1, 4, 9, 16, 25, 36, 49]\n",
      "[1, 8, 27, 64, 125, 216, 343]\n"
     ]
    }
   ],
   "source": [
    "#Write a Python program to square and cube every number in a given list of integers using Lambda\n",
    "x=[1,2,3,4,5,6,7]\n",
    "print(list(map(lambda x:x**2,x)))\n",
    "print(list(map(lambda x:x**3,x)))"
   ]
  },
  {
   "cell_type": "code",
   "execution_count": 73,
   "id": "db4c0840",
   "metadata": {},
   "outputs": [
    {
     "name": "stdout",
     "output_type": "stream",
     "text": [
      "enter the number:123\n",
      "[True]\n"
     ]
    }
   ],
   "source": [
    "#Write a Python program to check whether a given string is number or not using Lambda\n",
    "x=input('enter the number:')\n",
    "print(list(map(lambda x:x.isdigit(),[x])))\n"
   ]
  },
  {
   "cell_type": "code",
   "execution_count": null,
   "id": "0058068a",
   "metadata": {},
   "outputs": [],
   "source": []
  }
 ],
 "metadata": {
  "kernelspec": {
   "display_name": "Python 3 (ipykernel)",
   "language": "python",
   "name": "python3"
  },
  "language_info": {
   "codemirror_mode": {
    "name": "ipython",
    "version": 3
   },
   "file_extension": ".py",
   "mimetype": "text/x-python",
   "name": "python",
   "nbconvert_exporter": "python",
   "pygments_lexer": "ipython3",
   "version": "3.9.12"
  }
 },
 "nbformat": 4,
 "nbformat_minor": 5
}
